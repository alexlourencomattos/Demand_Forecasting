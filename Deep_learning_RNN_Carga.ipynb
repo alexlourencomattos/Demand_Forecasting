{
  "nbformat": 4,
  "nbformat_minor": 0,
  "metadata": {
    "colab": {
      "name": "Deep_learning_RNN_Carga.ipynb",
      "provenance": [],
      "toc_visible": true
    },
    "kernelspec": {
      "display_name": "Python 3",
      "language": "python",
      "name": "python3"
    },
    "language_info": {
      "codemirror_mode": {
        "name": "ipython",
        "version": 3
      },
      "file_extension": ".py",
      "mimetype": "text/x-python",
      "name": "python",
      "nbconvert_exporter": "python",
      "pygments_lexer": "ipython3",
      "version": "3.7.3"
    }
  },
  "cells": [
    {
      "cell_type": "code",
      "metadata": {
        "id": "Ntww1H8gsxtO"
      },
      "source": [
        "import numpy as np\n",
        "import matplotlib.pyplot as plt\n",
        "import pandas as pd"
      ],
      "execution_count": null,
      "outputs": []
    },
    {
      "cell_type": "code",
      "metadata": {
        "id": "XCMx7WHvsxtW"
      },
      "source": [
        "dataset_train = pd.read_csv('carga_gw_2020.csv', sep = ';', engine = \"python\", header = None)\n",
        "\n"
      ],
      "execution_count": null,
      "outputs": []
    },
    {
      "cell_type": "code",
      "metadata": {
        "colab": {
          "base_uri": "https://localhost:8080/",
          "height": 206
        },
        "id": "J2-QLZZzK0TD",
        "outputId": "ede5ec98-4b57-4fdb-87fe-0cd60e6d77ac"
      },
      "source": [
        "dataset_train.head()"
      ],
      "execution_count": null,
      "outputs": [
        {
          "output_type": "execute_result",
          "data": {
            "text/html": [
              "<div>\n",
              "<style scoped>\n",
              "    .dataframe tbody tr th:only-of-type {\n",
              "        vertical-align: middle;\n",
              "    }\n",
              "\n",
              "    .dataframe tbody tr th {\n",
              "        vertical-align: top;\n",
              "    }\n",
              "\n",
              "    .dataframe thead th {\n",
              "        text-align: right;\n",
              "    }\n",
              "</style>\n",
              "<table border=\"1\" class=\"dataframe\">\n",
              "  <thead>\n",
              "    <tr style=\"text-align: right;\">\n",
              "      <th></th>\n",
              "      <th>0</th>\n",
              "      <th>1</th>\n",
              "    </tr>\n",
              "  </thead>\n",
              "  <tbody>\n",
              "    <tr>\n",
              "      <th>0</th>\n",
              "      <td>01/01/2018</td>\n",
              "      <td>1.264,5</td>\n",
              "    </tr>\n",
              "    <tr>\n",
              "      <th>1</th>\n",
              "      <td>02/01/2018</td>\n",
              "      <td>1.519,40</td>\n",
              "    </tr>\n",
              "    <tr>\n",
              "      <th>2</th>\n",
              "      <td>03/01/2018</td>\n",
              "      <td>1.591,30</td>\n",
              "    </tr>\n",
              "    <tr>\n",
              "      <th>3</th>\n",
              "      <td>04/01/2018</td>\n",
              "      <td>1.588,70</td>\n",
              "    </tr>\n",
              "    <tr>\n",
              "      <th>4</th>\n",
              "      <td>05/01/2018</td>\n",
              "      <td>1.594,70</td>\n",
              "    </tr>\n",
              "  </tbody>\n",
              "</table>\n",
              "</div>"
            ],
            "text/plain": [
              "            0         1\n",
              "0  01/01/2018   1.264,5\n",
              "1  02/01/2018  1.519,40\n",
              "2  03/01/2018  1.591,30\n",
              "3  04/01/2018  1.588,70\n",
              "4  05/01/2018  1.594,70"
            ]
          },
          "metadata": {
            "tags": []
          },
          "execution_count": 11
        }
      ]
    },
    {
      "cell_type": "code",
      "metadata": {
        "id": "dzrpPttZsxtc"
      },
      "source": [
        "def to_numeric(x): \n",
        "    \n",
        "    x = x.replace(',','.')\n",
        "    sep = x.split('.')\n",
        "    \n",
        "    if len(sep) == 2:\n",
        "        x = sep[0]+'.'+sep[1]\n",
        "        \n",
        "        \n",
        "    elif len(sep) ==3 :\n",
        "        x = sep[0]+sep[1]+'.'+sep[2]\n",
        "    \n",
        "    else:\n",
        "        x = 0\n",
        "    \n",
        "    x_num = pd.to_numeric(x)\n",
        "\n",
        "    return  x_num\n"
      ],
      "execution_count": null,
      "outputs": []
    },
    {
      "cell_type": "code",
      "metadata": {
        "id": "lgJW9mk3sxth"
      },
      "source": [
        "def preprocess_df(df):\n",
        "        \n",
        "    # Determina novos nome de colunas\n",
        "    df.columns = [\"Date\", \"Carga\"]\n",
        "    \n",
        "    df.Date = pd.to_datetime(df.Date, dayfirst= True)\n",
        "    df.dtypes\n",
        "    \n",
        "    # Transforma colunas em numericos \n",
        "    df['Carga'] = pd.to_numeric(df['Carga'].apply(to_numeric))\n",
        "    \n",
        "    \n",
        "    \n",
        "    # Associa coluna Date ao index\n",
        "    #df.index = pd.to_datetime(df.Date, format=\"%m-%d-%Y\")\n",
        "    # dropa coluna Date extra \n",
        "    #df.drop(\"Date\", axis=1, inplace=True)\n",
        "    \n",
        "    return df"
      ],
      "execution_count": null,
      "outputs": []
    },
    {
      "cell_type": "code",
      "metadata": {
        "id": "nKqOM37jsxtn"
      },
      "source": [
        "def fill_na_with_mean(df):\n",
        "    \n",
        "    num_cols = len(list(df.columns.values))\n",
        "    \n",
        "    for col in range(num_cols):\n",
        "        \n",
        "        df.iloc[:,col] = df.iloc[:,col].fillna(df.iloc[:,col].mean())\n",
        "        \n",
        "    return df"
      ],
      "execution_count": null,
      "outputs": []
    },
    {
      "cell_type": "code",
      "metadata": {
        "colab": {
          "base_uri": "https://localhost:8080/",
          "height": 206
        },
        "id": "tr6gds74sxts",
        "outputId": "c0b2be06-e4f9-4f07-96e7-6e619bf0771c"
      },
      "source": [
        "dataset_train = preprocess_df(dataset_train)\n",
        "dataset_train = fill_na_with_mean(dataset_train)\n",
        "    \n",
        "dataset_train.head()"
      ],
      "execution_count": null,
      "outputs": [
        {
          "output_type": "execute_result",
          "data": {
            "text/html": [
              "<div>\n",
              "<style scoped>\n",
              "    .dataframe tbody tr th:only-of-type {\n",
              "        vertical-align: middle;\n",
              "    }\n",
              "\n",
              "    .dataframe tbody tr th {\n",
              "        vertical-align: top;\n",
              "    }\n",
              "\n",
              "    .dataframe thead th {\n",
              "        text-align: right;\n",
              "    }\n",
              "</style>\n",
              "<table border=\"1\" class=\"dataframe\">\n",
              "  <thead>\n",
              "    <tr style=\"text-align: right;\">\n",
              "      <th></th>\n",
              "      <th>Date</th>\n",
              "      <th>Carga</th>\n",
              "    </tr>\n",
              "  </thead>\n",
              "  <tbody>\n",
              "    <tr>\n",
              "      <th>0</th>\n",
              "      <td>2018-01-01</td>\n",
              "      <td>1264.5</td>\n",
              "    </tr>\n",
              "    <tr>\n",
              "      <th>1</th>\n",
              "      <td>2018-01-02</td>\n",
              "      <td>1519.4</td>\n",
              "    </tr>\n",
              "    <tr>\n",
              "      <th>2</th>\n",
              "      <td>2018-01-03</td>\n",
              "      <td>1591.3</td>\n",
              "    </tr>\n",
              "    <tr>\n",
              "      <th>3</th>\n",
              "      <td>2018-01-04</td>\n",
              "      <td>1588.7</td>\n",
              "    </tr>\n",
              "    <tr>\n",
              "      <th>4</th>\n",
              "      <td>2018-01-05</td>\n",
              "      <td>1594.7</td>\n",
              "    </tr>\n",
              "  </tbody>\n",
              "</table>\n",
              "</div>"
            ],
            "text/plain": [
              "        Date   Carga\n",
              "0 2018-01-01  1264.5\n",
              "1 2018-01-02  1519.4\n",
              "2 2018-01-03  1591.3\n",
              "3 2018-01-04  1588.7\n",
              "4 2018-01-05  1594.7"
            ]
          },
          "metadata": {
            "tags": []
          },
          "execution_count": 15
        }
      ]
    },
    {
      "cell_type": "code",
      "metadata": {
        "id": "sFMMCanasxty"
      },
      "source": [
        "training = dataset_train.iloc[: , 1:2]"
      ],
      "execution_count": null,
      "outputs": []
    },
    {
      "cell_type": "code",
      "metadata": {
        "colab": {
          "base_uri": "https://localhost:8080/"
        },
        "id": "i40Du7wjsxt8",
        "outputId": "fbaeff3c-d046-4fb0-f0dc-1b23debe2de1"
      },
      "source": [
        "train = training[0:729]\n",
        "train.shape"
      ],
      "execution_count": null,
      "outputs": [
        {
          "output_type": "execute_result",
          "data": {
            "text/plain": [
              "(729, 1)"
            ]
          },
          "metadata": {
            "tags": []
          },
          "execution_count": 17
        }
      ]
    },
    {
      "cell_type": "markdown",
      "metadata": {
        "id": "Nd1KXJFTsxuH"
      },
      "source": [
        "##Feature scaling"
      ]
    },
    {
      "cell_type": "code",
      "metadata": {
        "id": "HTxFG3yisxuI"
      },
      "source": [
        "from sklearn.preprocessing import MinMaxScaler\n",
        "sc = MinMaxScaler(feature_range=(0,1))\n",
        "train_scaled = sc.fit_transform(train)"
      ],
      "execution_count": null,
      "outputs": []
    },
    {
      "cell_type": "markdown",
      "metadata": {
        "id": "ws1R46lOsxuN"
      },
      "source": [
        "##Criando uma estrututra de dados que receba 60 passos no tempo e retorne uma saída"
      ]
    },
    {
      "cell_type": "code",
      "metadata": {
        "colab": {
          "background_save": true
        },
        "id": "gqJPaCHosxuO"
      },
      "source": [
        "x_train = []\n",
        "y_train = []\n",
        "for i in range(60,729): \n",
        "    x_train.append(train_scaled[i-60:i, 0])\n",
        "    y_train.append(train_scaled[i, 0])\n",
        "x_train, y_train = np.array(x_train), np.array(y_train) "
      ],
      "execution_count": null,
      "outputs": []
    },
    {
      "cell_type": "markdown",
      "metadata": {
        "id": "CSmWYXqSsxuS"
      },
      "source": [
        "#Reshaping "
      ]
    },
    {
      "cell_type": "code",
      "metadata": {
        "colab": {
          "background_save": true
        },
        "id": "QH-5YeCWsxuT"
      },
      "source": [
        "x_train = np.reshape(x_train, (x_train.shape[0],x_train.shape[1], 1))"
      ],
      "execution_count": null,
      "outputs": []
    },
    {
      "cell_type": "code",
      "metadata": {
        "id": "Rj03nKVasxua"
      },
      "source": [
        "from keras.models import Sequential \n",
        "from keras.layers import Dense\n",
        "from keras.layers import LSTM\n",
        "from keras.layers import Dropout"
      ],
      "execution_count": null,
      "outputs": []
    },
    {
      "cell_type": "code",
      "metadata": {
        "id": "a1Uu3kPMsxug"
      },
      "source": [
        "# Inicializando a RNN\n",
        "regressor = Sequential()"
      ],
      "execution_count": null,
      "outputs": []
    },
    {
      "cell_type": "markdown",
      "metadata": {
        "id": "ag_BRkVmsxuj"
      },
      "source": [
        "##Adicionando a primeira layer de LSTM e uma camada de dropout"
      ]
    },
    {
      "cell_type": "code",
      "metadata": {
        "id": "68SLovfEsxuk"
      },
      "source": [
        "regressor.add(LSTM(units=50, return_sequences = True, input_shape = (x_train.shape[1],1)))\n",
        "regressor.add(Dropout(0.2))"
      ],
      "execution_count": null,
      "outputs": []
    },
    {
      "cell_type": "markdown",
      "metadata": {
        "id": "DPkdoBufsxuo"
      },
      "source": [
        "## Adicionando a segunda camada "
      ]
    },
    {
      "cell_type": "code",
      "metadata": {
        "id": "oNh8NP6Jsxup"
      },
      "source": [
        "regressor.add(LSTM(units=50, return_sequences = True,))\n",
        "regressor.add(Dropout(0.2))"
      ],
      "execution_count": null,
      "outputs": []
    },
    {
      "cell_type": "markdown",
      "metadata": {
        "id": "qtkP0n16sxut"
      },
      "source": [
        "## Adicionado a terceira camada "
      ]
    },
    {
      "cell_type": "code",
      "metadata": {
        "id": "6qG8B10Esxuu"
      },
      "source": [
        "regressor.add(LSTM(units=50, return_sequences = True))\n",
        "regressor.add(Dropout(0.2))"
      ],
      "execution_count": null,
      "outputs": []
    },
    {
      "cell_type": "markdown",
      "metadata": {
        "id": "E3np6Dnbsxux"
      },
      "source": [
        "## Adicionando a quarta camada "
      ]
    },
    {
      "cell_type": "code",
      "metadata": {
        "id": "ye381YJdsxuy"
      },
      "source": [
        "regressor.add(LSTM(units=50))\n",
        "regressor.add(Dropout(0.2))"
      ],
      "execution_count": null,
      "outputs": []
    },
    {
      "cell_type": "markdown",
      "metadata": {
        "id": "DORtkVP6sxu5"
      },
      "source": [
        "## Adicionando a camada de saída "
      ]
    },
    {
      "cell_type": "code",
      "metadata": {
        "id": "cU15ebyasxu6"
      },
      "source": [
        "regressor.add(Dense(units=1))"
      ],
      "execution_count": null,
      "outputs": []
    },
    {
      "cell_type": "code",
      "metadata": {
        "id": "rxLySTCMsxu-"
      },
      "source": [
        "regressor.compile(optimizer = 'adam', loss = 'mean_squared_error')"
      ],
      "execution_count": null,
      "outputs": []
    },
    {
      "cell_type": "code",
      "metadata": {
        "colab": {
          "base_uri": "https://localhost:8080/",
          "height": 1000
        },
        "id": "ye0jGw8isxvB",
        "outputId": "eab8b31e-505b-43ba-af98-f17d7192f5db"
      },
      "source": [
        "regressor.fit(x_train, y_train, epochs = 100, batch_size = 32)"
      ],
      "execution_count": null,
      "outputs": [
        {
          "output_type": "stream",
          "text": [
            "Epoch 1/100\n",
            "21/21 [==============================] - 2s 117ms/step - loss: 0.0614\n",
            "Epoch 2/100\n",
            "21/21 [==============================] - 2s 103ms/step - loss: 0.0320\n",
            "Epoch 3/100\n",
            "21/21 [==============================] - 2s 107ms/step - loss: 0.0311\n",
            "Epoch 4/100\n",
            "21/21 [==============================] - 2s 101ms/step - loss: 0.0316\n",
            "Epoch 5/100\n",
            "21/21 [==============================] - 2s 102ms/step - loss: 0.0305\n",
            "Epoch 6/100\n",
            "21/21 [==============================] - 2s 110ms/step - loss: 0.0289\n",
            "Epoch 7/100\n",
            "21/21 [==============================] - 2s 105ms/step - loss: 0.0294\n",
            "Epoch 8/100\n",
            "21/21 [==============================] - 2s 107ms/step - loss: 0.0296\n",
            "Epoch 9/100\n",
            "21/21 [==============================] - 2s 107ms/step - loss: 0.0298\n",
            "Epoch 10/100\n",
            "21/21 [==============================] - 2s 114ms/step - loss: 0.0303\n",
            "Epoch 11/100\n",
            "21/21 [==============================] - 2s 102ms/step - loss: 0.0289\n",
            "Epoch 12/100\n",
            "21/21 [==============================] - 2s 103ms/step - loss: 0.0291\n",
            "Epoch 13/100\n",
            "21/21 [==============================] - 2s 107ms/step - loss: 0.0289\n",
            "Epoch 14/100\n",
            "21/21 [==============================] - 2s 101ms/step - loss: 0.0305\n",
            "Epoch 15/100\n",
            "21/21 [==============================] - 2s 109ms/step - loss: 0.0294\n",
            "Epoch 16/100\n",
            "21/21 [==============================] - 2s 108ms/step - loss: 0.0291\n",
            "Epoch 17/100\n",
            "21/21 [==============================] - 2s 102ms/step - loss: 0.0289\n",
            "Epoch 18/100\n",
            "21/21 [==============================] - 2s 101ms/step - loss: 0.0286\n",
            "Epoch 19/100\n",
            "21/21 [==============================] - 2s 107ms/step - loss: 0.0277\n",
            "Epoch 20/100\n",
            "21/21 [==============================] - 2s 103ms/step - loss: 0.0293\n",
            "Epoch 21/100\n",
            "21/21 [==============================] - 2s 105ms/step - loss: 0.0280\n",
            "Epoch 22/100\n",
            "21/21 [==============================] - 2s 103ms/step - loss: 0.0276\n",
            "Epoch 23/100\n",
            "21/21 [==============================] - 2s 105ms/step - loss: 0.0287\n",
            "Epoch 24/100\n",
            "21/21 [==============================] - 2s 102ms/step - loss: 0.0268\n",
            "Epoch 25/100\n",
            "21/21 [==============================] - 2s 110ms/step - loss: 0.0290\n",
            "Epoch 26/100\n",
            "21/21 [==============================] - 2s 106ms/step - loss: 0.0294\n",
            "Epoch 27/100\n",
            "21/21 [==============================] - 2s 107ms/step - loss: 0.0278\n",
            "Epoch 28/100\n",
            "21/21 [==============================] - 2s 103ms/step - loss: 0.0281\n",
            "Epoch 29/100\n",
            "21/21 [==============================] - 2s 104ms/step - loss: 0.0295\n",
            "Epoch 30/100\n",
            "21/21 [==============================] - 2s 103ms/step - loss: 0.0285\n",
            "Epoch 31/100\n",
            "21/21 [==============================] - 2s 105ms/step - loss: 0.0297\n",
            "Epoch 32/100\n",
            "21/21 [==============================] - 2s 102ms/step - loss: 0.0283\n",
            "Epoch 33/100\n",
            "21/21 [==============================] - 2s 103ms/step - loss: 0.0266\n",
            "Epoch 34/100\n",
            "21/21 [==============================] - 2s 105ms/step - loss: 0.0275\n",
            "Epoch 35/100\n",
            "21/21 [==============================] - 2s 104ms/step - loss: 0.0273\n",
            "Epoch 36/100\n",
            "21/21 [==============================] - 2s 105ms/step - loss: 0.0281\n",
            "Epoch 37/100\n",
            "21/21 [==============================] - 2s 105ms/step - loss: 0.0289\n",
            "Epoch 38/100\n",
            "21/21 [==============================] - 2s 114ms/step - loss: 0.0278\n",
            "Epoch 39/100\n",
            "21/21 [==============================] - 2s 104ms/step - loss: 0.0281\n",
            "Epoch 40/100\n",
            "21/21 [==============================] - 2s 105ms/step - loss: 0.0274\n",
            "Epoch 41/100\n",
            "21/21 [==============================] - 2s 106ms/step - loss: 0.0281\n",
            "Epoch 42/100\n",
            "21/21 [==============================] - 2s 106ms/step - loss: 0.0271\n",
            "Epoch 43/100\n",
            "21/21 [==============================] - 2s 104ms/step - loss: 0.0271\n",
            "Epoch 44/100\n",
            "21/21 [==============================] - 2s 107ms/step - loss: 0.0277\n",
            "Epoch 45/100\n",
            "21/21 [==============================] - 2s 106ms/step - loss: 0.0278\n",
            "Epoch 46/100\n",
            "21/21 [==============================] - 2s 104ms/step - loss: 0.0280\n",
            "Epoch 47/100\n",
            "21/21 [==============================] - 2s 107ms/step - loss: 0.0265\n",
            "Epoch 48/100\n",
            "21/21 [==============================] - 2s 105ms/step - loss: 0.0266\n",
            "Epoch 49/100\n",
            "21/21 [==============================] - 2s 113ms/step - loss: 0.0278\n",
            "Epoch 50/100\n",
            "21/21 [==============================] - 2s 104ms/step - loss: 0.0264\n",
            "Epoch 51/100\n",
            "21/21 [==============================] - 2s 103ms/step - loss: 0.0266\n",
            "Epoch 52/100\n",
            "21/21 [==============================] - 2s 102ms/step - loss: 0.0265\n",
            "Epoch 53/100\n",
            "21/21 [==============================] - 2s 103ms/step - loss: 0.0266\n",
            "Epoch 54/100\n",
            "21/21 [==============================] - 2s 112ms/step - loss: 0.0265\n",
            "Epoch 55/100\n",
            "21/21 [==============================] - 2s 104ms/step - loss: 0.0273\n",
            "Epoch 56/100\n",
            "21/21 [==============================] - 2s 106ms/step - loss: 0.0262\n",
            "Epoch 57/100\n",
            "21/21 [==============================] - 2s 104ms/step - loss: 0.0258\n",
            "Epoch 58/100\n",
            "21/21 [==============================] - 2s 106ms/step - loss: 0.0246\n",
            "Epoch 59/100\n",
            "21/21 [==============================] - 2s 104ms/step - loss: 0.0223\n",
            "Epoch 60/100\n",
            "21/21 [==============================] - 2s 108ms/step - loss: 0.0206\n",
            "Epoch 61/100\n",
            "21/21 [==============================] - 2s 110ms/step - loss: 0.0203\n",
            "Epoch 62/100\n",
            "21/21 [==============================] - 2s 106ms/step - loss: 0.0176\n",
            "Epoch 63/100\n",
            "21/21 [==============================] - 2s 104ms/step - loss: 0.0175\n",
            "Epoch 64/100\n",
            "21/21 [==============================] - 2s 106ms/step - loss: 0.0169\n",
            "Epoch 65/100\n",
            "21/21 [==============================] - 2s 114ms/step - loss: 0.0160\n",
            "Epoch 66/100\n",
            "21/21 [==============================] - 2s 107ms/step - loss: 0.0147\n",
            "Epoch 67/100\n",
            "21/21 [==============================] - 2s 110ms/step - loss: 0.0151\n",
            "Epoch 68/100\n",
            "21/21 [==============================] - 2s 105ms/step - loss: 0.0146\n",
            "Epoch 69/100\n",
            "21/21 [==============================] - 2s 104ms/step - loss: 0.0138\n",
            "Epoch 70/100\n",
            "21/21 [==============================] - 2s 104ms/step - loss: 0.0132\n",
            "Epoch 71/100\n",
            "21/21 [==============================] - 2s 102ms/step - loss: 0.0124\n",
            "Epoch 72/100\n",
            "21/21 [==============================] - 2s 102ms/step - loss: 0.0123\n",
            "Epoch 73/100\n",
            "21/21 [==============================] - 2s 105ms/step - loss: 0.0131\n",
            "Epoch 74/100\n",
            "21/21 [==============================] - 2s 103ms/step - loss: 0.0116\n",
            "Epoch 75/100\n",
            "21/21 [==============================] - 2s 103ms/step - loss: 0.0128\n",
            "Epoch 76/100\n",
            "21/21 [==============================] - 2s 104ms/step - loss: 0.0115\n",
            "Epoch 77/100\n",
            "21/21 [==============================] - 2s 102ms/step - loss: 0.0118\n",
            "Epoch 78/100\n",
            "21/21 [==============================] - 2s 102ms/step - loss: 0.0121\n",
            "Epoch 79/100\n",
            "21/21 [==============================] - 2s 102ms/step - loss: 0.0124\n",
            "Epoch 80/100\n",
            "21/21 [==============================] - 2s 102ms/step - loss: 0.0119\n",
            "Epoch 81/100\n",
            "21/21 [==============================] - 2s 107ms/step - loss: 0.0124\n",
            "Epoch 82/100\n",
            "21/21 [==============================] - 2s 103ms/step - loss: 0.0120\n",
            "Epoch 83/100\n",
            "21/21 [==============================] - 2s 102ms/step - loss: 0.0112\n",
            "Epoch 84/100\n",
            "21/21 [==============================] - 2s 109ms/step - loss: 0.0113\n",
            "Epoch 85/100\n",
            "21/21 [==============================] - 2s 103ms/step - loss: 0.0116\n",
            "Epoch 86/100\n",
            "21/21 [==============================] - 2s 103ms/step - loss: 0.0117\n",
            "Epoch 87/100\n",
            "21/21 [==============================] - 2s 102ms/step - loss: 0.0119\n",
            "Epoch 88/100\n",
            "21/21 [==============================] - 2s 102ms/step - loss: 0.0117\n",
            "Epoch 89/100\n",
            "21/21 [==============================] - 2s 103ms/step - loss: 0.0116\n",
            "Epoch 90/100\n",
            "21/21 [==============================] - 2s 106ms/step - loss: 0.0115\n",
            "Epoch 91/100\n",
            "21/21 [==============================] - 2s 103ms/step - loss: 0.0110\n",
            "Epoch 92/100\n",
            "21/21 [==============================] - 2s 103ms/step - loss: 0.0117\n",
            "Epoch 93/100\n",
            "21/21 [==============================] - 2s 104ms/step - loss: 0.0111\n",
            "Epoch 94/100\n",
            "21/21 [==============================] - 2s 103ms/step - loss: 0.0115\n",
            "Epoch 95/100\n",
            "21/21 [==============================] - 2s 104ms/step - loss: 0.0111\n",
            "Epoch 96/100\n",
            "21/21 [==============================] - 2s 102ms/step - loss: 0.0110\n",
            "Epoch 97/100\n",
            "21/21 [==============================] - 2s 107ms/step - loss: 0.0110\n",
            "Epoch 98/100\n",
            "21/21 [==============================] - 2s 111ms/step - loss: 0.0105\n",
            "Epoch 99/100\n",
            "21/21 [==============================] - 2s 114ms/step - loss: 0.0100\n",
            "Epoch 100/100\n",
            "21/21 [==============================] - 2s 105ms/step - loss: 0.0106\n"
          ],
          "name": "stdout"
        },
        {
          "output_type": "execute_result",
          "data": {
            "text/plain": [
              "<tensorflow.python.keras.callbacks.History at 0x7faebf3386a0>"
            ]
          },
          "metadata": {
            "tags": []
          },
          "execution_count": 21
        }
      ]
    },
    {
      "cell_type": "code",
      "metadata": {
        "id": "4bIXTEL3sxvE"
      },
      "source": [
        "test = training[729:912]"
      ],
      "execution_count": null,
      "outputs": []
    },
    {
      "cell_type": "code",
      "metadata": {
        "id": "8X4me6a0sxvK"
      },
      "source": [
        "total = np.concatenate((train, test), axis = 0)"
      ],
      "execution_count": null,
      "outputs": []
    },
    {
      "cell_type": "code",
      "metadata": {
        "id": "qDIo6IT410LY"
      },
      "source": [
        "input = total[669:912]"
      ],
      "execution_count": null,
      "outputs": []
    },
    {
      "cell_type": "code",
      "metadata": {
        "colab": {
          "base_uri": "https://localhost:8080/",
          "height": 1000
        },
        "id": "YeS4N5ARyidK",
        "outputId": "70244ec0-daa9-44cf-f895-685b9142a9c6"
      },
      "source": [
        "input.reshape(-1,1)"
      ],
      "execution_count": null,
      "outputs": [
        {
          "output_type": "execute_result",
          "data": {
            "text/plain": [
              "array([[1664.5],\n",
              "       [1442.9],\n",
              "       [1394.2],\n",
              "       [1695.7],\n",
              "       [1730.5],\n",
              "       [1673.6],\n",
              "       [1652.8],\n",
              "       [1655.1],\n",
              "       [1525.3],\n",
              "       [1390.1],\n",
              "       [1635.5],\n",
              "       [1649. ],\n",
              "       [1656.9],\n",
              "       [1637.9],\n",
              "       [1433.2],\n",
              "       [1396.8],\n",
              "       [1310.1],\n",
              "       [1563.6],\n",
              "       [1619.7],\n",
              "       [1590.8],\n",
              "       [1655.7],\n",
              "       [1674.7],\n",
              "       [1538.2],\n",
              "       [1335.5],\n",
              "       [1567.8],\n",
              "       [1628.1],\n",
              "       [1643.9],\n",
              "       [1624.3],\n",
              "       [1605.4],\n",
              "       [1510.7],\n",
              "       [1386.3],\n",
              "       [1602.7],\n",
              "       [1614.9],\n",
              "       [1644.8],\n",
              "       [1669.5],\n",
              "       [1642.5],\n",
              "       [1505.5],\n",
              "       [1367.8],\n",
              "       [1627.2],\n",
              "       [1664.2],\n",
              "       [1674.8],\n",
              "       [1684.8],\n",
              "       [1675.7],\n",
              "       [1537. ],\n",
              "       [1420.6],\n",
              "       [1677.7],\n",
              "       [1701.6],\n",
              "       [1665.8],\n",
              "       [1642.6],\n",
              "       [1638.5],\n",
              "       [1534.8],\n",
              "       [1420.3],\n",
              "       [1520.6],\n",
              "       [1434.4],\n",
              "       [1301.7],\n",
              "       [1561.5],\n",
              "       [1616.9],\n",
              "       [1559.2],\n",
              "       [1466.7],\n",
              "       [1572.5],\n",
              "       [1488.3],\n",
              "       [1371.1],\n",
              "       [1563.9],\n",
              "       [1563.2],\n",
              "       [1475.3],\n",
              "       [1383.2],\n",
              "       [1629.5],\n",
              "       [1717.1],\n",
              "       [1729.3],\n",
              "       [1755.2],\n",
              "       [1772.1],\n",
              "       [1624.3],\n",
              "       [1488.4],\n",
              "       [1716.6],\n",
              "       [1745. ],\n",
              "       [1785. ],\n",
              "       [1816.8],\n",
              "       [1722.7],\n",
              "       [1540. ],\n",
              "       [1423.7],\n",
              "       [1686.8],\n",
              "       [1727.3],\n",
              "       [1693.6],\n",
              "       [1658.3],\n",
              "       [1641.6],\n",
              "       [1522.8],\n",
              "       [1423.2],\n",
              "       [1714.9],\n",
              "       [1763.6],\n",
              "       [1779.1],\n",
              "       [1783.6],\n",
              "       [1782.6],\n",
              "       [1636.4],\n",
              "       [1479.5],\n",
              "       [1723. ],\n",
              "       [1743.4],\n",
              "       [1746. ],\n",
              "       [1740.3],\n",
              "       [1734.2],\n",
              "       [1602.3],\n",
              "       [1464.9],\n",
              "       [1688.9],\n",
              "       [1674.2],\n",
              "       [1668.3],\n",
              "       [1686.5],\n",
              "       [1713.7],\n",
              "       [1621.8],\n",
              "       [1506.6],\n",
              "       [1793.6],\n",
              "       [1843.6],\n",
              "       [1828.1],\n",
              "       [1813.9],\n",
              "       [1752.6],\n",
              "       [1529.7],\n",
              "       [1356. ],\n",
              "       [1490. ],\n",
              "       [1524.2],\n",
              "       [1655.2],\n",
              "       [1681.3],\n",
              "       [1661.2],\n",
              "       [1525.3],\n",
              "       [1376.5],\n",
              "       [1611.5],\n",
              "       [1653.3],\n",
              "       [1677.9],\n",
              "       [1695.2],\n",
              "       [1678.7],\n",
              "       [1533.9],\n",
              "       [1403. ],\n",
              "       [1689.9],\n",
              "       [1756.9],\n",
              "       [1769.2],\n",
              "       [1775.9],\n",
              "       [1791.6],\n",
              "       [1634.4],\n",
              "       [1494.2],\n",
              "       [1747.1],\n",
              "       [1766.5],\n",
              "       [1763.9],\n",
              "       [1730. ],\n",
              "       [1679.8],\n",
              "       [1493.1],\n",
              "       [1360.2],\n",
              "       [1509.2],\n",
              "       [1491. ],\n",
              "       [1480.3],\n",
              "       [1478.1],\n",
              "       [1473.2],\n",
              "       [1414.5],\n",
              "       [1338.1],\n",
              "       [1485. ],\n",
              "       [1508.7],\n",
              "       [1502.5],\n",
              "       [1510.8],\n",
              "       [1489.1],\n",
              "       [1370.6],\n",
              "       [1295.4],\n",
              "       [1468.7],\n",
              "       [1464.8],\n",
              "       [1434. ],\n",
              "       [1397.5],\n",
              "       [1230.4],\n",
              "       [1260.1],\n",
              "       [1202.2],\n",
              "       [1385.1],\n",
              "       [1407.7],\n",
              "       [1412.3],\n",
              "       [1387. ],\n",
              "       [1382.9],\n",
              "       [1291.9],\n",
              "       [1195.3],\n",
              "       [1322.1],\n",
              "       [1300.8],\n",
              "       [1403. ],\n",
              "       [1412.3],\n",
              "       [1414.3],\n",
              "       [1316.1],\n",
              "       [1229.4],\n",
              "       [1393.9],\n",
              "       [1419.7],\n",
              "       [1435.9],\n",
              "       [1431.3],\n",
              "       [1288.9],\n",
              "       [1272.4],\n",
              "       [1194.8],\n",
              "       [1373.1],\n",
              "       [1419.9],\n",
              "       [1433. ],\n",
              "       [1402.4],\n",
              "       [1383.2],\n",
              "       [1282.3],\n",
              "       [1166.6],\n",
              "       [1368.3],\n",
              "       [1419. ],\n",
              "       [1435.5],\n",
              "       [1430.8],\n",
              "       [1408.9],\n",
              "       [1291.1],\n",
              "       [1186.1],\n",
              "       [1369.5],\n",
              "       [1406. ],\n",
              "       [1423.2],\n",
              "       [1431.4],\n",
              "       [1429.3],\n",
              "       [1338.1],\n",
              "       [1212.5],\n",
              "       [1327.1],\n",
              "       [1368.8],\n",
              "       [1378.8],\n",
              "       [1380. ],\n",
              "       [1368.6],\n",
              "       [1271.6],\n",
              "       [1172.4],\n",
              "       [1363.9],\n",
              "       [1415.7],\n",
              "       [1433. ],\n",
              "       [1448.8],\n",
              "       [1436.2],\n",
              "       [1326.5],\n",
              "       [1208.3],\n",
              "       [1413. ],\n",
              "       [1458.4],\n",
              "       [1463.3],\n",
              "       [1360. ],\n",
              "       [1394. ],\n",
              "       [1318.2],\n",
              "       [1203. ],\n",
              "       [1375.4],\n",
              "       [1405.4],\n",
              "       [1407. ],\n",
              "       [1405.6],\n",
              "       [1417.1],\n",
              "       [1334.7],\n",
              "       [1223.3],\n",
              "       [1425.7],\n",
              "       [1442.2],\n",
              "       [1438.8],\n",
              "       [1461.5],\n",
              "       [1456.8],\n",
              "       [1353.1],\n",
              "       [1224.4],\n",
              "       [1413.4],\n",
              "       [1413.9]])"
            ]
          },
          "metadata": {
            "tags": []
          },
          "execution_count": 25
        }
      ]
    },
    {
      "cell_type": "code",
      "metadata": {
        "colab": {
          "base_uri": "https://localhost:8080/",
          "height": 34
        },
        "id": "GpJdrBCJLH4U",
        "outputId": "5a7c3df9-d5ef-483a-85ca-17369615dc72"
      },
      "source": [
        "input.shape"
      ],
      "execution_count": null,
      "outputs": [
        {
          "output_type": "execute_result",
          "data": {
            "text/plain": [
              "(243, 1)"
            ]
          },
          "metadata": {
            "tags": []
          },
          "execution_count": 26
        }
      ]
    },
    {
      "cell_type": "code",
      "metadata": {
        "id": "dQcJcs0Fyua-"
      },
      "source": [
        "input = sc.transform(input)\n",
        "x_test = []"
      ],
      "execution_count": null,
      "outputs": []
    },
    {
      "cell_type": "code",
      "metadata": {
        "id": "7q2tS-a1zDwd"
      },
      "source": [
        "for i in range(60,80):\n",
        "    x_test.append(input[i-60:i, 0])\n",
        "    \n",
        "x_test = np.array(x_test) \n",
        "x_test = np.reshape(x_test, (x_test.shape[0],x_test.shape[1], 1))\n",
        "predicted_load = regressor.predict(x_test) \n",
        "predicted_load = sc.inverse_transform(predicted_load) "
      ],
      "execution_count": null,
      "outputs": []
    },
    {
      "cell_type": "code",
      "metadata": {
        "colab": {
          "base_uri": "https://localhost:8080/",
          "height": 34
        },
        "id": "NWhgPezX4nc7",
        "outputId": "928baa0f-dcd5-4529-805f-4e424143e53c"
      },
      "source": [
        "x_test.shape"
      ],
      "execution_count": null,
      "outputs": [
        {
          "output_type": "execute_result",
          "data": {
            "text/plain": [
              "(20, 60, 1)"
            ]
          },
          "metadata": {
            "tags": []
          },
          "execution_count": 29
        }
      ]
    },
    {
      "cell_type": "code",
      "metadata": {
        "colab": {
          "base_uri": "https://localhost:8080/",
          "height": 34
        },
        "id": "DQV2qV_94rjN",
        "outputId": "b3586060-fc4f-45c8-d9c4-aac8a9e6472e"
      },
      "source": [
        "predicted_load.shape"
      ],
      "execution_count": null,
      "outputs": [
        {
          "output_type": "execute_result",
          "data": {
            "text/plain": [
              "(20, 1)"
            ]
          },
          "metadata": {
            "tags": []
          },
          "execution_count": 30
        }
      ]
    },
    {
      "cell_type": "code",
      "metadata": {
        "id": "9GfIN8Ur5Aw4"
      },
      "source": [
        "carga = training[892:].values\n"
      ],
      "execution_count": null,
      "outputs": []
    },
    {
      "cell_type": "code",
      "metadata": {
        "colab": {
          "base_uri": "https://localhost:8080/",
          "height": 353
        },
        "id": "-bQNzQKsLZ6z",
        "outputId": "0519f98b-bf92-4ac0-fde0-52165cf7618e"
      },
      "source": [
        "carga"
      ],
      "execution_count": null,
      "outputs": [
        {
          "output_type": "execute_result",
          "data": {
            "text/plain": [
              "array([[1360. ],\n",
              "       [1394. ],\n",
              "       [1318.2],\n",
              "       [1203. ],\n",
              "       [1375.4],\n",
              "       [1405.4],\n",
              "       [1407. ],\n",
              "       [1405.6],\n",
              "       [1417.1],\n",
              "       [1334.7],\n",
              "       [1223.3],\n",
              "       [1425.7],\n",
              "       [1442.2],\n",
              "       [1438.8],\n",
              "       [1461.5],\n",
              "       [1456.8],\n",
              "       [1353.1],\n",
              "       [1224.4],\n",
              "       [1413.4],\n",
              "       [1413.9]])"
            ]
          },
          "metadata": {
            "tags": []
          },
          "execution_count": 32
        }
      ]
    },
    {
      "cell_type": "code",
      "metadata": {
        "colab": {
          "base_uri": "https://localhost:8080/",
          "height": 279
        },
        "id": "NmLlCKLu2htM",
        "outputId": "d3ab3190-0a9c-48f4-d3a6-4f08aae50aef"
      },
      "source": [
        "\n",
        "plt.plot(carga, color = 'red', label = 'Carga')\n",
        "plt.plot(predicted_load, color = 'blue', label = 'Previsão')\n",
        "plt.xlabel('Tempo')\n",
        "plt.plot('Carga')\n",
        "plt.legend()\n",
        "plt.show()"
      ],
      "execution_count": null,
      "outputs": [
        {
          "output_type": "display_data",
          "data": {
            "image/png": "[encoded data removed]",
            "text/plain": [
              "<Figure size 432x288 with 1 Axes>"
            ]
          },
          "metadata": {
            "tags": []
          }
        }
      ]
    }
  ]
}